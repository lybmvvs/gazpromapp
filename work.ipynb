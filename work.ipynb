{
 "cells": [
  {
   "cell_type": "code",
   "execution_count": 1,
   "metadata": {},
   "outputs": [
    {
     "data": {
      "text/html": [
       "<div>\n",
       "<style scoped>\n",
       "    .dataframe tbody tr th:only-of-type {\n",
       "        vertical-align: middle;\n",
       "    }\n",
       "\n",
       "    .dataframe tbody tr th {\n",
       "        vertical-align: top;\n",
       "    }\n",
       "\n",
       "    .dataframe thead th {\n",
       "        text-align: right;\n",
       "    }\n",
       "</style>\n",
       "<table border=\"1\" class=\"dataframe\">\n",
       "  <thead>\n",
       "    <tr style=\"text-align: right;\">\n",
       "      <th></th>\n",
       "      <th>Дата</th>\n",
       "      <th>Скважина №</th>\n",
       "      <th>Дебит жидкости, м3/сут</th>\n",
       "      <th>Дебит нефти, т/сут</th>\n",
       "      <th>Обводненность, %</th>\n",
       "      <th>Пластовое давление (ТР), атм</th>\n",
       "      <th>Забойное давление (ТР), атм</th>\n",
       "      <th>Пласт</th>\n",
       "    </tr>\n",
       "  </thead>\n",
       "  <tbody>\n",
       "    <tr>\n",
       "      <th>302</th>\n",
       "      <td>2019-04-01</td>\n",
       "      <td>11</td>\n",
       "      <td>123.0</td>\n",
       "      <td>12313.0</td>\n",
       "      <td>123123.0</td>\n",
       "      <td>0.0</td>\n",
       "      <td>0.0</td>\n",
       "      <td>Ю3</td>\n",
       "    </tr>\n",
       "    <tr>\n",
       "      <th>303</th>\n",
       "      <td>2019-05-01</td>\n",
       "      <td>11</td>\n",
       "      <td>13.0</td>\n",
       "      <td>123.0</td>\n",
       "      <td>123123.0</td>\n",
       "      <td>0.0</td>\n",
       "      <td>0.0</td>\n",
       "      <td>Ю3</td>\n",
       "    </tr>\n",
       "    <tr>\n",
       "      <th>304</th>\n",
       "      <td>2020-01-01</td>\n",
       "      <td>11</td>\n",
       "      <td>123123.0</td>\n",
       "      <td>13.0</td>\n",
       "      <td>123123.0</td>\n",
       "      <td>0.0</td>\n",
       "      <td>0.0</td>\n",
       "      <td>Ю3</td>\n",
       "    </tr>\n",
       "    <tr>\n",
       "      <th>305</th>\n",
       "      <td>2021-01-01</td>\n",
       "      <td>11</td>\n",
       "      <td>2131.0</td>\n",
       "      <td>0.0</td>\n",
       "      <td>12331.0</td>\n",
       "      <td>123.0</td>\n",
       "      <td>1231.0</td>\n",
       "      <td>Ю3</td>\n",
       "    </tr>\n",
       "    <tr>\n",
       "      <th>306</th>\n",
       "      <td>2021-02-01</td>\n",
       "      <td>11</td>\n",
       "      <td>33131.0</td>\n",
       "      <td>123.0</td>\n",
       "      <td>33.0</td>\n",
       "      <td>123.0</td>\n",
       "      <td>123.0</td>\n",
       "      <td>Ю3</td>\n",
       "    </tr>\n",
       "  </tbody>\n",
       "</table>\n",
       "</div>"
      ],
      "text/plain": [
       "          Дата  Скважина №  Дебит жидкости, м3/сут  Дебит нефти, т/сут  \\\n",
       "302 2019-04-01          11                   123.0             12313.0   \n",
       "303 2019-05-01          11                    13.0               123.0   \n",
       "304 2020-01-01          11                123123.0                13.0   \n",
       "305 2021-01-01          11                  2131.0                 0.0   \n",
       "306 2021-02-01          11                 33131.0               123.0   \n",
       "\n",
       "     Обводненность, %  Пластовое давление (ТР), атм  \\\n",
       "302          123123.0                           0.0   \n",
       "303          123123.0                           0.0   \n",
       "304          123123.0                           0.0   \n",
       "305           12331.0                         123.0   \n",
       "306              33.0                         123.0   \n",
       "\n",
       "     Забойное давление (ТР), атм Пласт  \n",
       "302                          0.0    Ю3  \n",
       "303                          0.0    Ю3  \n",
       "304                          0.0    Ю3  \n",
       "305                       1231.0    Ю3  \n",
       "306                        123.0    Ю3  "
      ]
     },
     "execution_count": 1,
     "metadata": {},
     "output_type": "execute_result"
    }
   ],
   "source": [
    "import pandas as pd\n",
    "import numpy as np\n",
    "import datetime\n",
    "\n",
    "data = pd.read_excel('TYLE.xlsx', sheet_name='ГРП')\n",
    "dummy = pd.read_excel('TYLE.xlsx', sheet_name='МЭР')\n",
    "dummy.tail()"
   ]
  },
  {
   "cell_type": "code",
   "execution_count": 2,
   "metadata": {},
   "outputs": [
    {
     "ename": "AttributeError",
     "evalue": "'SeriesGroupBy' object has no attribute 'tolist'",
     "output_type": "error",
     "traceback": [
      "\u001b[1;31m---------------------------------------------------------------------------\u001b[0m",
      "\u001b[1;31mAttributeError\u001b[0m                            Traceback (most recent call last)",
      "\u001b[1;32m<ipython-input-2-c56ce4127351>\u001b[0m in \u001b[0;36m<module>\u001b[1;34m\u001b[0m\n\u001b[0;32m     11\u001b[0m \u001b[1;31m#minus_wells\u001b[0m\u001b[1;33m\u001b[0m\u001b[1;33m\u001b[0m\u001b[1;33m\u001b[0m\u001b[0m\n\u001b[0;32m     12\u001b[0m \u001b[0mdummy1\u001b[0m\u001b[1;33m=\u001b[0m\u001b[0mdummy1\u001b[0m\u001b[1;33m.\u001b[0m\u001b[0mgroupby\u001b[0m\u001b[1;33m(\u001b[0m\u001b[1;34m'Скважина №'\u001b[0m\u001b[1;33m)\u001b[0m\u001b[1;33m\u001b[0m\u001b[1;33m\u001b[0m\u001b[0m\n\u001b[1;32m---> 13\u001b[1;33m \u001b[0mwells_del_both\u001b[0m\u001b[1;33m=\u001b[0m\u001b[0mdummy1\u001b[0m\u001b[1;33m[\u001b[0m\u001b[1;34m'Index'\u001b[0m\u001b[1;33m]\u001b[0m\u001b[1;33m.\u001b[0m\u001b[0mtolist\u001b[0m\u001b[1;33m(\u001b[0m\u001b[1;33m)\u001b[0m\u001b[1;33m\u001b[0m\u001b[1;33m\u001b[0m\u001b[0m\n\u001b[0m\u001b[0;32m     14\u001b[0m \u001b[1;33m\u001b[0m\u001b[0m\n\u001b[0;32m     15\u001b[0m \u001b[0mdummy1\u001b[0m\u001b[1;33m\u001b[0m\u001b[1;33m\u001b[0m\u001b[0m\n",
      "\u001b[1;32m~\\miniconda3\\lib\\site-packages\\pandas\\core\\groupby\\groupby.py\u001b[0m in \u001b[0;36m__getattr__\u001b[1;34m(self, attr)\u001b[0m\n\u001b[0;32m    910\u001b[0m \u001b[1;33m\u001b[0m\u001b[0m\n\u001b[0;32m    911\u001b[0m         raise AttributeError(\n\u001b[1;32m--> 912\u001b[1;33m             \u001b[1;34mf\"'{type(self).__name__}' object has no attribute '{attr}'\"\u001b[0m\u001b[1;33m\u001b[0m\u001b[1;33m\u001b[0m\u001b[0m\n\u001b[0m\u001b[0;32m    913\u001b[0m         )\n\u001b[0;32m    914\u001b[0m \u001b[1;33m\u001b[0m\u001b[0m\n",
      "\u001b[1;31mAttributeError\u001b[0m: 'SeriesGroupBy' object has no attribute 'tolist'"
     ]
    }
   ],
   "source": [
    "dummy['Index'] = dummy.index\n",
    "dummy1 = dummy.drop(dummy[dummy['Пластовое давление (ТР), атм'] != 0].index)\n",
    "dummy1 = dummy1.drop(dummy1[dummy1['Забойное давление (ТР), атм'] != 0].index)\n",
    "#wells_both_zero\n",
    "#dummy1=dummy1.groupby(by=['Скважина №']).mean()\n",
    "#dummy = dummy.groupby('Скважина №').agg(\n",
    " #   {'Пластовое давление (ТР), атм': lambda x: \n",
    "  #   x.tolist()}\n",
    "#dummy1.reset_index(inplace=True)\n",
    "#minus_wells=dummy1['Скважина №'].tolist()\n",
    "#minus_wells\n",
    "dummy1=dummy1.groupby('Скважина №')\n",
    "wells_del_both=dummy1['Index'].tolist()\n",
    "\n",
    "dummy1"
   ]
  },
  {
   "cell_type": "code",
   "execution_count": null,
   "metadata": {},
   "outputs": [],
   "source": [
    "dummy=dummy[~dummy['Index'].isin(wells_del_both)].reset_index(drop=True)\n",
    "dummy"
   ]
  }
 ],
 "metadata": {
  "kernelspec": {
   "display_name": "Python 3",
   "language": "python",
   "name": "python3"
  },
  "language_info": {
   "codemirror_mode": {
    "name": "ipython",
    "version": 3
   },
   "file_extension": ".py",
   "mimetype": "text/x-python",
   "name": "python",
   "nbconvert_exporter": "python",
   "pygments_lexer": "ipython3",
   "version": "3.7.6"
  }
 },
 "nbformat": 4,
 "nbformat_minor": 4
}
